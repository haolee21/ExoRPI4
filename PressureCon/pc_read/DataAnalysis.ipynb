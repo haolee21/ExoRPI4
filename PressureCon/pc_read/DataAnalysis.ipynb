{
 "cells": [
  {
   "cell_type": "code",
   "execution_count": 3,
   "id": "interior-skill",
   "metadata": {},
   "outputs": [],
   "source": [
    "import pandas as pd\n",
    "from matplotlib import pyplot as plt\n",
    "import numpy as np"
   ]
  },
  {
   "cell_type": "markdown",
   "id": "authentic-sunrise",
   "metadata": {},
   "source": [
    "## Calibrating the position sensor\n",
    "We measure the position vs the voltage output"
   ]
  },
  {
   "cell_type": "code",
   "execution_count": 39,
   "id": "received-quarter",
   "metadata": {},
   "outputs": [
    {
     "name": "stderr",
     "output_type": "stream",
     "text": [
      "<ipython-input-39-1d03ada0b0c7>:5: FutureWarning: `rcond` parameter will change to the default of machine precision times ``max(M, N)`` where M and N are the input matrix dimensions.\n",
      "To use the future default and silence this warning we advise to pass `rcond=None`, to keep using the old, explicitly pass `rcond=-1`.\n",
      "  beta = np.linalg.lstsq(np.vstack([np.ones([1,len(volt)]),volt]).T,pos)\n"
     ]
    },
    {
     "data": {
      "image/png": "[encoded data removed]",
      "text/plain": [
       "<Figure size 432x288 with 1 Axes>"
      ]
     },
     "metadata": {
      "needs_background": "light"
     },
     "output_type": "display_data"
    }
   ],
   "source": [
    "pos=[2.27,3.94,7.54,11.34,14.01,17.01,19.15]\n",
    "volt=[0.7113,0.9618,1.2694,1.7673,1.9386,2.1732,2.4259]\n",
    "\n",
    "\n",
    "beta = np.linalg.lstsq(np.vstack([np.ones([1,len(volt)]),volt]).T,pos)\n",
    "\n",
    "est = beta[0][0]+beta[0][1]*np.array(volt)\n",
    "plt.plot(volt,pos)\n",
    "plt.plot(volt,est)\n",
    "\n",
    "def GetPos(volt):\n",
    "    return beta[0][0]+beta[0][1]*np.array(volt)"
   ]
  },
  {
   "cell_type": "code",
   "execution_count": 41,
   "id": "vietnamese-expansion",
   "metadata": {},
   "outputs": [],
   "source": [
    "data1 = pd.read_csv('170523_Feb262022.csv')"
   ]
  },
  {
   "cell_type": "code",
   "execution_count": null,
   "id": "stopped-still",
   "metadata": {},
   "outputs": [],
   "source": [
    "plt.plot()"
   ]
  },
  {
   "cell_type": "code",
   "execution_count": 42,
   "id": "bound-sharp",
   "metadata": {},
   "outputs": [
    {
     "data": {
      "text/html": [
       "<div>\n",
       "<style scoped>\n",
       "    .dataframe tbody tr th:only-of-type {\n",
       "        vertical-align: middle;\n",
       "    }\n",
       "\n",
       "    .dataframe tbody tr th {\n",
       "        vertical-align: top;\n",
       "    }\n",
       "\n",
       "    .dataframe thead th {\n",
       "        text-align: right;\n",
       "    }\n",
       "</style>\n",
       "<table border=\"1\" class=\"dataframe\">\n",
       "  <thead>\n",
       "    <tr style=\"text-align: right;\">\n",
       "      <th></th>\n",
       "      <th>Unnamed: 0</th>\n",
       "      <th>tank_pre</th>\n",
       "      <th>cyln_pre</th>\n",
       "      <th>force</th>\n",
       "      <th>pos</th>\n",
       "      <th>val1</th>\n",
       "      <th>val2</th>\n",
       "    </tr>\n",
       "  </thead>\n",
       "  <tbody>\n",
       "    <tr>\n",
       "      <th>0</th>\n",
       "      <td>0</td>\n",
       "      <td>189</td>\n",
       "      <td>192</td>\n",
       "      <td>97</td>\n",
       "      <td>754</td>\n",
       "      <td>0</td>\n",
       "      <td>0</td>\n",
       "    </tr>\n",
       "    <tr>\n",
       "      <th>1</th>\n",
       "      <td>1</td>\n",
       "      <td>195</td>\n",
       "      <td>191</td>\n",
       "      <td>97</td>\n",
       "      <td>754</td>\n",
       "      <td>0</td>\n",
       "      <td>0</td>\n",
       "    </tr>\n",
       "    <tr>\n",
       "      <th>2</th>\n",
       "      <td>2</td>\n",
       "      <td>185</td>\n",
       "      <td>190</td>\n",
       "      <td>97</td>\n",
       "      <td>754</td>\n",
       "      <td>0</td>\n",
       "      <td>0</td>\n",
       "    </tr>\n",
       "    <tr>\n",
       "      <th>3</th>\n",
       "      <td>3</td>\n",
       "      <td>192</td>\n",
       "      <td>193</td>\n",
       "      <td>96</td>\n",
       "      <td>753</td>\n",
       "      <td>0</td>\n",
       "      <td>0</td>\n",
       "    </tr>\n",
       "    <tr>\n",
       "      <th>4</th>\n",
       "      <td>4</td>\n",
       "      <td>193</td>\n",
       "      <td>190</td>\n",
       "      <td>96</td>\n",
       "      <td>754</td>\n",
       "      <td>0</td>\n",
       "      <td>0</td>\n",
       "    </tr>\n",
       "    <tr>\n",
       "      <th>...</th>\n",
       "      <td>...</td>\n",
       "      <td>...</td>\n",
       "      <td>...</td>\n",
       "      <td>...</td>\n",
       "      <td>...</td>\n",
       "      <td>...</td>\n",
       "      <td>...</td>\n",
       "    </tr>\n",
       "    <tr>\n",
       "      <th>19995</th>\n",
       "      <td>19995</td>\n",
       "      <td>191</td>\n",
       "      <td>190</td>\n",
       "      <td>181</td>\n",
       "      <td>345</td>\n",
       "      <td>0</td>\n",
       "      <td>0</td>\n",
       "    </tr>\n",
       "    <tr>\n",
       "      <th>19996</th>\n",
       "      <td>19996</td>\n",
       "      <td>192</td>\n",
       "      <td>190</td>\n",
       "      <td>181</td>\n",
       "      <td>345</td>\n",
       "      <td>0</td>\n",
       "      <td>0</td>\n",
       "    </tr>\n",
       "    <tr>\n",
       "      <th>19997</th>\n",
       "      <td>19997</td>\n",
       "      <td>192</td>\n",
       "      <td>191</td>\n",
       "      <td>180</td>\n",
       "      <td>345</td>\n",
       "      <td>0</td>\n",
       "      <td>0</td>\n",
       "    </tr>\n",
       "    <tr>\n",
       "      <th>19998</th>\n",
       "      <td>19998</td>\n",
       "      <td>192</td>\n",
       "      <td>192</td>\n",
       "      <td>180</td>\n",
       "      <td>345</td>\n",
       "      <td>0</td>\n",
       "      <td>0</td>\n",
       "    </tr>\n",
       "    <tr>\n",
       "      <th>19999</th>\n",
       "      <td>19999</td>\n",
       "      <td>191</td>\n",
       "      <td>191</td>\n",
       "      <td>180</td>\n",
       "      <td>345</td>\n",
       "      <td>0</td>\n",
       "      <td>0</td>\n",
       "    </tr>\n",
       "  </tbody>\n",
       "</table>\n",
       "<p>20000 rows × 7 columns</p>\n",
       "</div>"
      ],
      "text/plain": [
       "       Unnamed: 0  tank_pre  cyln_pre  force  pos  val1  val2\n",
       "0               0       189       192     97  754     0     0\n",
       "1               1       195       191     97  754     0     0\n",
       "2               2       185       190     97  754     0     0\n",
       "3               3       192       193     96  753     0     0\n",
       "4               4       193       190     96  754     0     0\n",
       "...           ...       ...       ...    ...  ...   ...   ...\n",
       "19995       19995       191       190    181  345     0     0\n",
       "19996       19996       192       190    181  345     0     0\n",
       "19997       19997       192       191    180  345     0     0\n",
       "19998       19998       192       192    180  345     0     0\n",
       "19999       19999       191       191    180  345     0     0\n",
       "\n",
       "[20000 rows x 7 columns]"
      ]
     },
     "execution_count": 42,
     "metadata": {},
     "output_type": "execute_result"
    }
   ],
   "source": [
    "data1"
   ]
  },
  {
   "cell_type": "code",
   "execution_count": null,
   "id": "saving-variety",
   "metadata": {},
   "outputs": [],
   "source": []
  }
 ],
 "metadata": {
  "kernelspec": {
   "display_name": "Python 3",
   "language": "python",
   "name": "python3"
  },
  "language_info": {
   "codemirror_mode": {
    "name": "ipython",
    "version": 3
   },
   "file_extension": ".py",
   "mimetype": "text/x-python",
   "name": "python",
   "nbconvert_exporter": "python",
   "pygments_lexer": "ipython3",
   "version": "3.8.5"
  }
 },
 "nbformat": 4,
 "nbformat_minor": 5
}
