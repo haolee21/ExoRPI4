{
 "cells": [
  {
   "cell_type": "code",
   "execution_count": 1,
   "id": "headed-radical",
   "metadata": {},
   "outputs": [],
   "source": [
    "import pandas as pd\n",
    "from matplotlib import pyplot as plt\n",
    "import numpy as np\n",
    "from DataLoad import DataProcess"
   ]
  },
  {
   "cell_type": "code",
   "execution_count": 2,
   "id": "relevant-briefs",
   "metadata": {},
   "outputs": [],
   "source": [
    "## parameters\n",
    "area=0.31*0.00064516 #unit m^2\n",
    "area_2 = 0.28*0.00064516"
   ]
  },
  {
   "cell_type": "code",
   "execution_count": 3,
   "id": "marked-murray",
   "metadata": {},
   "outputs": [],
   "source": [
    "import glob, os\n",
    "os.chdir(\".\")\n",
    "data = pd.concat([DataProcess('test',pd.read_csv(file),static=True) for file in glob.glob(\"static/*.csv\")])\n",
    "# data = DataProcess('134659_Mar222022.csv',static = True)\n"
   ]
  },
  {
   "cell_type": "code",
   "execution_count": 6,
   "id": "ready-earth",
   "metadata": {},
   "outputs": [
    {
     "data": {
      "text/plain": [
       "Text(0, 0.5, 'Force: Load Cell (N)')"
      ]
     },
     "execution_count": 6,
     "metadata": {},
     "output_type": "execute_result"
    },
    {
     "data": {
      "image/png": "[encoded data removed]",
      "text/plain": [
       "<Figure size 432x288 with 1 Axes>"
      ]
     },
     "metadata": {
      "needs_background": "light"
     },
     "output_type": "display_data"
    }
   ],
   "source": [
    "p_force = (data.loc[:,'cyln_pre']+101325)*area-101325*area_2*0\n",
    "f_force = data.loc[:,'force']\n",
    "plt.scatter(p_force,f_force,s=1)\n",
    "# plt.plot(np.linspace(40,60,len(p_force)),np.linspace(40,60,len(p_force)),color='red')\n",
    "\n",
    "plt.xlabel('Force: Pressure(N))')\n",
    "plt.ylabel('Force: Load Cell (N)')\n"
   ]
  },
  {
   "cell_type": "code",
   "execution_count": null,
   "id": "assisted-genealogy",
   "metadata": {},
   "outputs": [],
   "source": []
  },
  {
   "cell_type": "code",
   "execution_count": null,
   "id": "protective-video",
   "metadata": {},
   "outputs": [],
   "source": []
  }
 ],
 "metadata": {
  "kernelspec": {
   "display_name": "Python 3",
   "language": "python",
   "name": "python3"
  },
  "language_info": {
   "codemirror_mode": {
    "name": "ipython",
    "version": 3
   },
   "file_extension": ".py",
   "mimetype": "text/x-python",
   "name": "python",
   "nbconvert_exporter": "python",
   "pygments_lexer": "ipython3",
   "version": "3.8.5"
  }
 },
 "nbformat": 4,
 "nbformat_minor": 5
}
