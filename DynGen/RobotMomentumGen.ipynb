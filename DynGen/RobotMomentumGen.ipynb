{
 "cells": [
  {
   "cell_type": "markdown",
   "id": "5a73e6bd",
   "metadata": {},
   "source": [
    "### Generate the equations of the robot's momentum"
   ]
  },
  {
   "cell_type": "code",
   "execution_count": 1,
   "id": "19043577",
   "metadata": {},
   "outputs": [],
   "source": [
    "import symforce as sf\n",
    "sf.set_epsilon_to_symbol()\n",
    "sf.set_symbolic_api('sympy')\n",
    "sf.set_log_level('warning')\n",
    "import symforce.symbolic as sb\n",
    "import numpy as np\n",
    "# exoskeleton's parameter\n",
    "\n",
    "# link length\n",
    "foot_l_e = 0.24\n",
    "foot_h_e = 0.114\n",
    "calf_l_e = 0.4505\n",
    "thigh_l_e = 0.438\n",
    "\n",
    "# mass\n",
    "m_calf_e = 1\n",
    "m_thigh_e = 1.2\n",
    "m_backpack = 10.20583\n",
    "m_foot_e = 0.8242665\n",
    "\n",
    "# com position\n",
    "# f: front, r: rear\n",
    "f_calf_com_e = sb.Vector2(0.2557,-0.0236)# calculated from solidwork \n",
    "r_calf_com_e = sb.Vector2(0.1968,0.0392)\n",
    "f_thigh_com_e =sb.Vector2(0.2105,0.0026)\n",
    "r_thigh_com_e =sb.Vector2(0.2274,-0.0026)\n",
    "r_foot_com_e = sb.Vector2(0.0630,-0.0642)\n",
    "box_com = sb.Vector2(0.3053,-0.2858)\n",
    "\n",
    "# moment of inertia\n",
    "calf_I_e = 0.0202\n",
    "thigh_I_e = 0.0237\n",
    "foot_I_e = 0.0086\n",
    "box_I = (0.15**2*0.37**2)*m_backpack/12\n",
    "\n",
    "#put parameters into array\n",
    "l_e = [0,calf_l_e,thigh_l_e,0,thigh_l_e,calf_l_e]\n",
    "\n",
    "rc_e = [f_calf_com_e,\n",
    "         f_thigh_com_e,\n",
    "         box_com,\n",
    "         r_thigh_com_e,\n",
    "         r_calf_com_e,\n",
    "         r_foot_com_e]\n",
    "m_e = [m_calf_e,m_thigh_e,m_backpack,m_thigh_e,m_calf_e,m_foot_e]"
   ]
  },
  {
   "cell_type": "code",
   "execution_count": 2,
   "id": "4081bf00",
   "metadata": {},
   "outputs": [],
   "source": [
    "# generate forward kinematics\n",
    "\n",
    "## define symbolic variable\n",
    "\n",
    "q_e = sb.V6.symbolic('q')\n",
    "dq_e = sb.V6.symbolic('dq')\n",
    "# align the angles with exo's encoders\n",
    "q_e[0] = 90+q_e[0] #front ankle = ank_ang+\n",
    "q_e[3] = -180-q_e[3]\n",
    "q_e[4] = -q_e[4]\n",
    "q_e[5] = -90-q_e[5]\n",
    "\n",
    "dq_e[3] = -dq_e[3]\n",
    "dq_e[4] = -dq_e[4]\n",
    "dq_e[5] = -dq_e[5]\n",
    "\n",
    "\n",
    "q_e = q_e/180*np.pi\n",
    "dq_e = dq_e/180*np.pi*100\n",
    "\n"
   ]
  },
  {
   "cell_type": "code",
   "execution_count": 3,
   "id": "af50b8c8",
   "metadata": {},
   "outputs": [],
   "source": [
    "# create transformation matrix function\n",
    "q = sb.Symbol('q')\n",
    "l = sb.Symbol('l')\n",
    "T_mat = sb.Matrix([[sb.cos(q),-sb.sin(q)],\n",
    "                   [sb.sin(q),sb.cos(q)]])\n"
   ]
  },
  {
   "cell_type": "code",
   "execution_count": 4,
   "id": "9c863b02",
   "metadata": {},
   "outputs": [],
   "source": [
    "import pdb\n",
    "#build rcm pos from joint angles\n",
    "T = sb.Matrix([[1,0],\n",
    "               [0,1]])\n",
    "w = 0\n",
    "P_exo=sb.Matrix.zeros(2,1)\n",
    "v = sb.Vector2([0,0])\n",
    "for i in range(6):\n",
    "    T = (T*T_mat.subs({q:q_e[i]})).simplify()\n",
    "    # pdb.set_trace()\n",
    "    # rcm_pos = (T*sb.Vector3([rc_e[i][0],rc_e[i][1],1]))[0:2]\n",
    "    w = w+dq_e[i]\n",
    "    r_c = T*sb.Vector2([rc_e[i][0],rc_e[i][1]])\n",
    "    r = T*sb.Vector2([l_e[i],0])\n",
    "    vc = v+sb.Vector2([-w*r_c[1],w*r_c[0]])\n",
    "    v = v+sb.Vector2([-w*r[1],w*r[0]])\n",
    "    P_exo = P_exo+m_e[i]*vc\n",
    "# T = T.simplify()\n",
    "    "
   ]
  },
  {
   "cell_type": "code",
   "execution_count": 5,
   "id": "6878b611",
   "metadata": {},
   "outputs": [],
   "source": [
    "def ExoMomentum(q:sb.Vector6,dq:sb.Vector6)->sb.Matrix21:\n",
    "    return P_exo\n",
    "\n",
    "from symforce.codegen import Codegen, CppConfig\n",
    "from symforce.notebook_util import display, display_code, display_code_file\n",
    "\n",
    "\n",
    "codegen = Codegen.function(ExoMomentum, config=CppConfig())\n",
    "Test_codegen_data = codegen.generate_function(output_dir='/home/lowlimb/cdrive/UCLA/lab/Exoskeleton/Controller/ExoRPI4/DynGen')\n",
    "# display_code_file(Test_codegen_data.generated_files[0], \"C++\")"
   ]
  },
  {
   "cell_type": "code",
   "execution_count": null,
   "id": "831402ed",
   "metadata": {},
   "outputs": [],
   "source": []
  },
  {
   "cell_type": "code",
   "execution_count": null,
   "id": "bec2ec43",
   "metadata": {},
   "outputs": [],
   "source": []
  }
 ],
 "metadata": {
  "kernelspec": {
   "display_name": "Python 3 (ipykernel)",
   "language": "python",
   "name": "python3"
  },
  "language_info": {
   "codemirror_mode": {
    "name": "ipython",
    "version": 3
   },
   "file_extension": ".py",
   "mimetype": "text/x-python",
   "name": "python",
   "nbconvert_exporter": "python",
   "pygments_lexer": "ipython3",
   "version": "3.11.2"
  }
 },
 "nbformat": 4,
 "nbformat_minor": 5
}
